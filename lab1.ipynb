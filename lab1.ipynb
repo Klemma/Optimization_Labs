{
 "cells": [
  {
   "cell_type": "markdown",
   "metadata": {},
   "source": [
    "# Методы оптимизации\n",
    "## Лабораторная работа №1<br><br> <i>Методы одномерного поиска</i>"
   ]
  },
  {
   "cell_type": "markdown",
   "metadata": {},
   "source": [
    "### Лабораторную работу выполнил студент гр. ИДБ-18-09 Клемин И. Р."
   ]
  },
  {
   "cell_type": "markdown",
   "metadata": {},
   "source": [
    "### Цель работы\n",
    "Изучение методов безусловной одномерной оптимизации, применение их на практическом примере. <br>Сравнить различные алгоритмы по эффективности на тестовых примерах."
   ]
  },
  {
   "cell_type": "markdown",
   "metadata": {},
   "source": [
    "### Порядок выполнения работы:\n",
    "1. Найти аналитическое решение задачи $\\min_{x \\in [a, b]} f(x)$.\n",
    "2. Исследовать их сходимость и провести сравнение по числу вычислений функции для достижения заданной точности."
   ]
  },
  {
   "cell_type": "markdown",
   "metadata": {},
   "source": [
    "### Вариант №17\n",
    "Дана функция: $f(x)=-x^3 + 3(1 + x)(ln(1 + x) - 1)$<br>\n",
    "Начальный интервал неопределенности $L = [-0.5; 0.5]$<br>\n",
    "Точность $\\varepsilon = 0.05$"
   ]
  },
  {
   "cell_type": "code",
   "execution_count": 1,
   "metadata": {},
   "outputs": [],
   "source": [
    "from math import log, sqrt\n",
    "import matplotlib.pyplot as plt\n",
    "import numpy as np"
   ]
  },
  {
   "cell_type": "code",
   "execution_count": 2,
   "metadata": {},
   "outputs": [],
   "source": [
    "def func(x: float) -> float:\n",
    "    return -x ** 3 + 3 * (1 + x) * (log(1 + x) - 1)"
   ]
  },
  {
   "cell_type": "code",
   "execution_count": 3,
   "metadata": {},
   "outputs": [],
   "source": [
    "def draw_plot() -> None:\n",
    "    x = np.linspace(-0.5, 0.5, 50)\n",
    "    y = np.array([func(x_i) for x_i in x])\n",
    "    fig = plt.figure()\n",
    "    ax = fig.add_subplot()\n",
    "    ax.spines[\"left\"].set_position(\"center\")\n",
    "    plt.grid()\n",
    "    plt.plot(x, y, 'r')"
   ]
  },
  {
   "cell_type": "markdown",
   "metadata": {},
   "source": [
    "### График данной функции на интервале $[-0.5; 0.5]$"
   ]
  },
  {
   "cell_type": "code",
   "execution_count": 4,
   "metadata": {},
   "outputs": [
    {
     "data": {
      "image/png": "[encoded data removed]",
      "text/plain": [
       "<Figure size 432x288 with 1 Axes>"
      ]
     },
     "metadata": {
      "needs_background": "light"
     },
     "output_type": "display_data"
    }
   ],
   "source": [
    "draw_plot()"
   ]
  },
  {
   "cell_type": "markdown",
   "metadata": {},
   "source": [
    "### Аналитическое решение задачи поиска локального минимума"
   ]
  },
  {
   "cell_type": "markdown",
   "metadata": {},
   "source": [
    "<b>Необходимое условие экстремума функции:</b><br>\n",
    "$f'(x)=0$<br>\n",
    "В нашем случае $f'(x)=-3x^2+3ln(x+1)-3+\\frac{3x+3}{x+1}=0$<br>\n",
    "Отсюда находим, что $x^{*}$ из интервала $[-0.5; 0.5]$ равняется $0$<br>\n",
    "<b>Достаточное условие экстремума функции:</b><br>\n",
    "Если $f(x)$ дважды дифференцируема на данном интервале, тогда:<br>\n",
    "1. Если $f''(x^*)>0$, то $x^*$ - точка локального (глобального) минимума.\n",
    "2. Если $f''(x^*)<0$, то $x^*$ - точка локального (глобального) максимума.<br>\n",
    "В нашем случае $f''(x)=-6x+\\frac{6}{x + 1}-\\frac{3x + 3}{(x + 1)^2}$<br>\n",
    "$f''(0) = 3 > 0$, следовательно, точка $x^* = 0$ является точкой локального минимума."
   ]
  },
  {
   "cell_type": "markdown",
   "metadata": {},
   "source": [
    "### Программная реализация решения"
   ]
  },
  {
   "cell_type": "code",
   "execution_count": 5,
   "metadata": {},
   "outputs": [],
   "source": [
    "interval = (-0.5, 0.5)\n",
    "precision = 0.05"
   ]
  },
  {
   "cell_type": "markdown",
   "metadata": {},
   "source": [
    "#### Метод дихотомии"
   ]
  },
  {
   "cell_type": "code",
   "execution_count": 6,
   "metadata": {},
   "outputs": [],
   "source": [
    "def dichotomy(func: callable, interval: tuple, precision: float) -> tuple:\n",
    "    a, b = interval\n",
    "    offset = precision / 2\n",
    "    k = 0\n",
    "    \n",
    "    while True:\n",
    "        offset /= 2\n",
    "        if abs(b - a) <= precision:\n",
    "            return ((a, b), (a + b) / 2, k)\n",
    "        l = (a + b) / 2 - offset / 2\n",
    "        func_l = func(l)\n",
    "        m = (a + b) / 2 + offset / 2\n",
    "        func_m = func(m)\n",
    "        k += 2\n",
    "        \n",
    "        if func_l <= func_m:\n",
    "            b = m\n",
    "        else:\n",
    "            a = l"
   ]
  },
  {
   "cell_type": "code",
   "execution_count": 7,
   "metadata": {},
   "outputs": [],
   "source": [
    "final_interval, solution, k = dichotomy(func, interval, precision)"
   ]
  },
  {
   "cell_type": "code",
   "execution_count": 8,
   "metadata": {},
   "outputs": [
    {
     "name": "stdout",
     "output_type": "stream",
     "text": [
      "Конечный интервал: [-0.00625, 0.02695]\n",
      "Приближенное решение: 0.01035\n",
      "Количество вычислений функции: 10\n"
     ]
    }
   ],
   "source": [
    "print(f\"Конечный интервал: {[round(border, 5) for border in final_interval]}\", f\"Приближенное решение: {round(solution, 5)}\", f\"Количество вычислений функции: {k}\", sep='\\n')"
   ]
  },
  {
   "cell_type": "code",
   "execution_count": 9,
   "metadata": {},
   "outputs": [],
   "source": [
    "dichotomy_convergence = 1 / 2 ** (k / 2)"
   ]
  },
  {
   "cell_type": "code",
   "execution_count": 10,
   "metadata": {},
   "outputs": [
    {
     "name": "stdout",
     "output_type": "stream",
     "text": [
      "Сходимость метода дихотомии при вычислении функции 10 раз: 0.03125\n"
     ]
    }
   ],
   "source": [
    "print(f\"Сходимость метода дихотомии при вычислении функции {k} раз: {dichotomy_convergence}\")"
   ]
  },
  {
   "cell_type": "markdown",
   "metadata": {},
   "source": [
    "#### Метод золотого сечения"
   ]
  },
  {
   "cell_type": "code",
   "execution_count": 11,
   "metadata": {},
   "outputs": [],
   "source": [
    "def golden_ratio(func: callable, interval: tuple, precision: float) -> tuple:\n",
    "    a, b = interval\n",
    "    y = a + (3 - sqrt(5)) * (b - a) / 2\n",
    "    z = a + b - y\n",
    "    func_y = func(y)\n",
    "    func_z = func(z)\n",
    "    k = 1\n",
    "    flag = False # True - не пересчитывать func_z, False - не пересчитывать func_y\n",
    "    \n",
    "    while True:\n",
    "        if flag:\n",
    "            func_z = func_y\n",
    "            func_y = func(y)\n",
    "        elif k != 1:\n",
    "            func_y = func_z\n",
    "            func_z = func(z)\n",
    "        k += 1\n",
    "        \n",
    "        if func_y <= func_z:\n",
    "            flag = True\n",
    "            b = z\n",
    "            z = y\n",
    "            y = a + b - y\n",
    "        else:\n",
    "            flag = False\n",
    "            a = y\n",
    "            y = z\n",
    "            z = a + b - z\n",
    "        if abs(a - b) <= precision:\n",
    "            return ((a, b), (a + b) / 2, k)"
   ]
  },
  {
   "cell_type": "code",
   "execution_count": 12,
   "metadata": {},
   "outputs": [],
   "source": [
    "final_interval, solution, k = golden_ratio(func, interval, precision)"
   ]
  },
  {
   "cell_type": "code",
   "execution_count": 13,
   "metadata": {},
   "outputs": [
    {
     "name": "stdout",
     "output_type": "stream",
     "text": [
      "Конечный интервал: [-0.00658, 0.02786]\n",
      "Приближенное решение: 0.01064\n",
      "Количество вычислений функции: 8\n"
     ]
    }
   ],
   "source": [
    "print(f\"Конечный интервал: {[round(border, 5) for border in final_interval]}\", f\"Приближенное решение: {round(solution, 5)}\", f\"Количество вычислений функции: {k}\", sep='\\n')"
   ]
  },
  {
   "cell_type": "code",
   "execution_count": 14,
   "metadata": {},
   "outputs": [],
   "source": [
    "golden_ratio_convergence = 0.618 ** (k - 1)"
   ]
  },
  {
   "cell_type": "code",
   "execution_count": 15,
   "metadata": {},
   "outputs": [
    {
     "name": "stdout",
     "output_type": "stream",
     "text": [
      "Сходимость метода золотого сечения при вычислении функции 8 раз: 0.03443\n"
     ]
    }
   ],
   "source": [
    "print(f\"Сходимость метода золотого сечения при вычислении функции {k} раз: {round(golden_ratio_convergence, 5)}\")"
   ]
  },
  {
   "cell_type": "markdown",
   "metadata": {},
   "source": [
    "#### Метод Фибоначчи"
   ]
  },
  {
   "cell_type": "code",
   "execution_count": 16,
   "metadata": {},
   "outputs": [],
   "source": [
    "def fibonacci(func: callable, interval: tuple, precision: float, const=0.025) -> tuple:\n",
    "    a = [interval[0]]\n",
    "    b = [interval[1]]\n",
    "    k = 1\n",
    "    fib_nums = [1, 1]\n",
    "    \n",
    "    while fib_nums[-1] <= abs(b[-1] - a[-1]) / precision:\n",
    "        fib_nums.append(fib_nums[-1] + fib_nums[-2])\n",
    "        \n",
    "    n = len(fib_nums) - 1\n",
    "    # l - лямбда, m - мю\n",
    "    l = [a[-1] + fib_nums[n - k - 1] * (b[-1] - a[-1]) / fib_nums[n - k + 1]]\n",
    "#     l = a + fib_nums[n - k - 1] * (b - a) / fib_nums[n - k + 1]\n",
    "    m = a[-1] + fib_nums[n - k] * (b[-1] - a[-1]) / fib_nums[n - k + 1]\n",
    "    func_l = func(l[-1])\n",
    "    func_m = func(m)\n",
    "    k_ = 2\n",
    "    \n",
    "    while k != n - 2:\n",
    "        if func_l > func_m:   \n",
    "            a.append(l[k - 1])\n",
    "            l.append(m)\n",
    "            m = a[-1] + fib_nums[n - k - 1] * (b[-1] - a[-1]) / fib_nums[n - k]\n",
    "            func_m = func(m)\n",
    "        else:\n",
    "            b.append(m)\n",
    "            m = l[-1]\n",
    "            l.append(a[-1] + fib_nums[n - k - 2] * (b[-1] - a[-1]) / fib_nums[n - k])\n",
    "            func_l = func(l[-1])\n",
    "            \n",
    "        k += 1\n",
    "        k_ += 1\n",
    "        \n",
    "    m = l[-2] + const\n",
    "    func_l = func(l[-2])\n",
    "    func_m = func(m)\n",
    "    k_ += 2\n",
    "    \n",
    "    if func_l > func_m:\n",
    "        a[-1] = l[-2]\n",
    "        b[-1] = b[-2]\n",
    "    else:\n",
    "        a[-1] = a[-2]\n",
    "        b[-1] = l[-2]\n",
    "    \n",
    "    return ((a[-1], b[-1]), (a[-1] + b[-1]) / 2, k_)"
   ]
  },
  {
   "cell_type": "code",
   "execution_count": 17,
   "metadata": {},
   "outputs": [],
   "source": [
    "final_interval, solution, k = fibonacci(func, interval, precision)"
   ]
  },
  {
   "cell_type": "code",
   "execution_count": 18,
   "metadata": {},
   "outputs": [
    {
     "name": "stdout",
     "output_type": "stream",
     "text": [
      "Конечный интервал: [-0.02381, 0.11905]\n",
      "Приближенное решение: 0.04762\n",
      "Количество вычислений функции: 8\n"
     ]
    }
   ],
   "source": [
    "print(f\"Конечный интервал: {[round(border, 5) for border in final_interval]}\", f\"Приближенное решение: {round(solution, 5)}\", f\"Количество вычислений функции: {k}\", sep='\\n')"
   ]
  },
  {
   "cell_type": "code",
   "execution_count": 19,
   "metadata": {},
   "outputs": [],
   "source": [
    "fib_nums = [1, 1]\n",
    "for i in range(k - 2):\n",
    "    fib_nums.append(fib_nums[-1] + fib_nums[-2])\n",
    "fib_k = fib_nums[-1]"
   ]
  },
  {
   "cell_type": "code",
   "execution_count": 20,
   "metadata": {},
   "outputs": [],
   "source": [
    "fibonacci_convergence = 1 / fib_k"
   ]
  },
  {
   "cell_type": "code",
   "execution_count": 21,
   "metadata": {},
   "outputs": [
    {
     "name": "stdout",
     "output_type": "stream",
     "text": [
      "Сходимость метода Фибоначчи при вычислении функции 8 раз: 0.04762\n"
     ]
    }
   ],
   "source": [
    "print(f\"Сходимость метода Фибоначчи при вычислении функции {k} раз: {round(fibonacci_convergence, 5)}\")"
   ]
  },
  {
   "cell_type": "markdown",
   "metadata": {},
   "source": [
    "## Выводы:\n",
    "1. Для функции, данной в задании, количество вычислений функции было больше всего в методе дихотомии (10), а в двух других по 8.\n",
    "2. Для функции, данной в задании, сходимость для метода дихотомии оказалась самой маленькой, что говорит о том, что в рамках данного примера он сходится быстрее двух других.\n",
    "3. Медленнее всех в рамках данного примера сходится метод Фибоначчи."
   ]
  }
 ],
 "metadata": {
  "kernelspec": {
   "display_name": "Python 3",
   "language": "python",
   "name": "python3"
  },
  "language_info": {
   "codemirror_mode": {
    "name": "ipython",
    "version": 3
   },
   "file_extension": ".py",
   "mimetype": "text/x-python",
   "name": "python",
   "nbconvert_exporter": "python",
   "pygments_lexer": "ipython3",
   "version": "3.8.5"
  }
 },
 "nbformat": 4,
 "nbformat_minor": 4
}
